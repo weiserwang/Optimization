{
 "cells": [
  {
   "cell_type": "markdown",
   "metadata": {},
   "source": [
    "# Golden Section Method"
   ]
  },
  {
   "cell_type": "code",
   "execution_count": 36,
   "metadata": {},
   "outputs": [],
   "source": [
    "import numpy as np\n",
    "import matplotlib.pyplot as plt\n",
    "\n",
    "def f(x):\n",
    "    return (-1/(x-1)**2)*(np.log(x)-2*(x-1)/(x+1))"
   ]
  },
  {
   "cell_type": "code",
   "execution_count": 40,
   "metadata": {},
   "outputs": [
    {
     "data": {
      "text/plain": [
       "[<matplotlib.lines.Line2D at 0x113ec5828>]"
      ]
     },
     "execution_count": 40,
     "metadata": {},
     "output_type": "execute_result"
    },
    {
     "data": {
      "image/png": "[encoded data removed]",
      "text/plain": [
       "<Figure size 432x288 with 1 Axes>"
      ]
     },
     "metadata": {
      "needs_background": "light"
     },
     "output_type": "display_data"
    }
   ],
   "source": [
    "# Plot the function\n",
    "x = np.linspace(1.5,4.5,50)\n",
    "plt.plot(x,f(x))\n",
    "plt.plot(1.5,f(1.5),'ro')\n",
    "plt.plot(4.5,f(4.5),'rx')"
   ]
  },
  {
   "cell_type": "code",
   "execution_count": 34,
   "metadata": {},
   "outputs": [],
   "source": [
    "def goldensection(a_left,b_right,precision=0.2,round_num=2):\n",
    "    \"\"\"\n",
    "    a_left: The left boundary\n",
    "    b_right: The right boundary\n",
    "    precision: Defalut value is 0.2\n",
    "    \n",
    "    This function is to implement goldensection method and the return \n",
    "    of the function can track all the steps\n",
    "    \n",
    "    \"\"\"\n",
    "    a = [a_left]\n",
    "    b = [b_right]\n",
    "    x1 = []\n",
    "    x2 = []\n",
    "    golden = (-1+np.sqrt(5))/2\n",
    "    precision = 0.2\n",
    "    i = 0\n",
    "\n",
    "    x1.append(round(b[i]-golden*(b[i]-a[i]),round_num))\n",
    "    x2.append(round(a[i]+golden*(b[i]-a[i]),round_num))\n",
    "\n",
    "    while abs(b[i]-a[i])>= precision: #Check if the interval satisfy the precision\n",
    "        if f(x2[i])>f(x1[i]):\n",
    "            a.append(a[i])\n",
    "            b.append(x2[i])\n",
    "            x2.append(x1[i])\n",
    "            x1.append(round(b[i+1]-golden*(b[i+1]-a[i+1]),round_num))\n",
    "\n",
    "        else:\n",
    "            a.append(x1[i])\n",
    "            b.append(b[i])\n",
    "            x1.append(x2[i])\n",
    "            x2.append(round(a[i+1]+golden*(b[i+1]-a[i+1]),round_num))\n",
    "\n",
    "        i += 1\n",
    "        \n",
    "    return a,x1,x2,b,i"
   ]
  },
  {
   "cell_type": "code",
   "execution_count": 41,
   "metadata": {},
   "outputs": [],
   "source": [
    "a,x1,x2,b,i = goldensection(1.5,4,5)\n"
   ]
  },
  {
   "cell_type": "markdown",
   "metadata": {},
   "source": [
    "# Fibonacci Method"
   ]
  },
  {
   "cell_type": "code",
   "execution_count": 46,
   "metadata": {},
   "outputs": [],
   "source": [
    "def Fib_Seq(Fn):\n",
    "    \"\"\"\n",
    "    Fn: the value that we need to exceed\n",
    "    \n",
    "    fib_seq: The fibonacci sequence that we might use in the future \n",
    "    N: The number of total N and N-1 is the number of total evaluations\n",
    "    \"\"\"\n",
    "    fib_seq = [1,1]\n",
    "    N = 1\n",
    "    while fib_seq[-1]<Fn:\n",
    "        fib_seq.append(fib_seq[-1]+fib_seq[-2])\n",
    "        N += 1\n",
    "    return fib_seq,N\n",
    "\n",
    "#fib_seq,n = fib_seq(21)"
   ]
  },
  {
   "cell_type": "code",
   "execution_count": 58,
   "metadata": {},
   "outputs": [],
   "source": [
    "def fibonaccimethod(a_left,b_right,precision=0.2,round_num=2):\n",
    "    \"\"\"\n",
    "    a_left: The left boundary of the interval\n",
    "    b_right: The right boundary of the interval\n",
    "    precision: Defalut value is 0.2\n",
    "    \n",
    "    This function is to implement goldensection method and the return \n",
    "    of the function can track all the steps\n",
    "    \n",
    "    j: The number of iterations\n",
    "    \n",
    "    \"\"\"\n",
    "    # Initiate \n",
    "    a = [a_left]\n",
    "    b = [b_right]\n",
    "    x1 = []\n",
    "    x2 = []\n",
    "    i = 0\n",
    "    j = 1\n",
    "    \n",
    "    #Determine the number of iterations\n",
    "    Fn = np.ceil((2*(b[0]-a[0]))/precision)\n",
    "    fib_seq,N = Fib_Seq(Fn)\n",
    "    \n",
    "    x1.append(round(a[0]+(b[0]-a[0])*(fib_seq[N-2]/fib_seq[N]),round_num))\n",
    "    x2.append(round(a[0]+(b[0]-a[0])*(fib_seq[N-1]/fib_seq[N]),round_num))\n",
    "\n",
    "    while abs(b[i]-a[i])>= precision: #Check if the interval satisfy the precision\n",
    "        \n",
    "        if f(x2[i])>f(x1[i]):\n",
    "            a.append(a[i])\n",
    "            b.append(x2[i])\n",
    "            x2.append(x1[i])\n",
    "            x1.append(round(a[i+1]+(b[i+1]-a[i+1])*(fib_seq[N-j-1]/fib_seq[N-j+1]),round_num))\n",
    "\n",
    "        else:\n",
    "            a.append(x1[i])\n",
    "            b.append(b[i])\n",
    "            x1.append(x2[i])\n",
    "            x2.append(round(a[i+1]+(b[i+1]-a[i+1])*(fib_seq[N-j]/fib_seq[N-j+1]),round_num))\n",
    "         \n",
    "        i += 1\n",
    "        j += 1\n",
    "        \n",
    "    return a,x1,x2,b,i,fib_seq,N,j"
   ]
  },
  {
   "cell_type": "code",
   "execution_count": 64,
   "metadata": {},
   "outputs": [
    {
     "name": "stdout",
     "output_type": "stream",
     "text": [
      "6\n",
      "1.5 2.64286 3.35714 4.5\n",
      "1.5 2.20748 2.64286 3.35714\n",
      "1.5 1.93956 2.20748 2.64286\n",
      "1.93956 2.20748 2.37912 2.64286\n",
      "1.93956 2.11538 2.20748 2.37912\n",
      "2.11538 2.20748 2.29121 2.37912\n"
     ]
    }
   ],
   "source": [
    "a,x1,x2,b,i,fib_seq,N,j = fibonaccimethod(1.5,4.5,2/7,5)\n",
    "print(len(a))\n",
    "for i in range(6):\n",
    "    print(a[i],x1[i],x2[i],b[i])"
   ]
  },
  {
   "cell_type": "code",
   "execution_count": 65,
   "metadata": {},
   "outputs": [
    {
     "name": "stdout",
     "output_type": "stream",
     "text": [
      "0 0.4 0.6 1\n",
      "0.4 0.6 0.76 1\n",
      "0.4 0.52 0.6 0.76\n"
     ]
    }
   ],
   "source": [
    "def f(x):\n",
    "    return np.exp(-x)-np.cos(x)\n",
    "a,x1,x2,b,i,fib_seq,N,j = fibonaccimethod(0,1,0.5,5)\n",
    "for i in range(j):\n",
    "    print(a[i],x1[i],x2[i],b[i])"
   ]
  }
 ],
 "metadata": {
  "kernelspec": {
   "display_name": "Python 3",
   "language": "python",
   "name": "python3"
  },
  "language_info": {
   "codemirror_mode": {
    "name": "ipython",
    "version": 3
   },
   "file_extension": ".py",
   "mimetype": "text/x-python",
   "name": "python",
   "nbconvert_exporter": "python",
   "pygments_lexer": "ipython3",
   "version": "3.7.3"
  }
 },
 "nbformat": 4,
 "nbformat_minor": 2
}
