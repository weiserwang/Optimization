{
 "cells": [
  {
   "cell_type": "code",
   "execution_count": 1,
   "metadata": {},
   "outputs": [],
   "source": [
    "import numpy as np\n",
    "import matplotlib.pyplot as plt\n",
    "import scipy.optimize"
   ]
  },
  {
   "cell_type": "code",
   "execution_count": null,
   "metadata": {},
   "outputs": [],
   "source": [
    "def f(x):\n",
    "    a = x[0]\n",
    "    b = x[1]\n",
    "    return 10*a**2+b**2"
   ]
  },
  {
   "cell_type": "code",
   "execution_count": 2,
   "metadata": {},
   "outputs": [],
   "source": [
    "def gradient_f(x):\n",
    "    a = x[0]\n",
    "    b = x[1]\n",
    "    return np.array([20*a,2*b],dtype=float)"
   ]
  },
  {
   "cell_type": "code",
   "execution_count": null,
   "metadata": {},
   "outputs": [],
   "source": [
    "def hessian_f(x):\n",
    "    a = x[0]\n",
    "    b = x[1]\n",
    "    return np.array([[20,0],[0,2]],dtype=float)"
   ]
  },
  {
   "cell_type": "code",
   "execution_count": 3,
   "metadata": {},
   "outputs": [],
   "source": [
    "# Initial conditions\n",
    "iterations = 2\n",
    "x_initial = np.array([0.1,1.])"
   ]
  },
  {
   "cell_type": "markdown",
   "metadata": {},
   "source": [
    "# Attention!!!\n",
    "When using theses algorithms, paste the code into python file or it might bring wrong results"
   ]
  },
  {
   "cell_type": "markdown",
   "metadata": {},
   "source": [
    "# Broyden's Method"
   ]
  },
  {
   "cell_type": "code",
   "execution_count": null,
   "metadata": {},
   "outputs": [],
   "source": [
    "def Broyden(x,iterations,gradient_f):\n",
    "    \"\"\"\n",
    "    Parameters\n",
    "    ----------\n",
    "    \n",
    "    x : 2d float array\n",
    "        Initial point\n",
    "       \n",
    "    iterations : Integer\n",
    "        The total number of iterations\n",
    "        \n",
    "    gradient_f : funciton\n",
    "        The function to calculate first order derivative of the function at the specific point\n",
    "        \n",
    "        \n",
    "    Returns\n",
    "    ------\n",
    "    \n",
    "    x : 2d float array\n",
    "        The stational point\n",
    "    \n",
    "    H : 2d float array\n",
    "        Matrix similar to hessian matrix\n",
    "    \n",
    "    \"\"\"\n",
    "    k = 0\n",
    "    H = np.eye(x.shape[0],x.shape[0])\n",
    "    while k<iterations:\n",
    "        d = -np.dot(H,gradient_f(x))\n",
    "        # Find the minimum alpha\n",
    "        alpha = scipy.optimize.root(lambda a: np.dot(gradient_f(x+a*d),d),1).x\n",
    "#         print('Alpha is {}'.format(alpha))\n",
    "        # Update x and H\n",
    "        x_previous = x.copy()\n",
    "        x += alpha*d\n",
    "#         print('X is {}'.format(x))\n",
    "\n",
    "        delta = x-x_previous\n",
    "        gamma = gradient_f(x)-gradient_f(x_previous)\n",
    "#         print('Delta is {}'.format(delta))\n",
    "#         print('Gamma is {}'.format(gamma))\n",
    "        component = delta - np.dot(H,gamma)\n",
    "        component = component.reshape(-1,1)\n",
    "\n",
    "        H += np.dot(component,component.T)/np.dot(component.T,gamma)\n",
    "#         print('H is \\n{}'.format(H))\n",
    "#         print('\\n')\n",
    "\n",
    "        k += 1\n",
    "    return x,H"
   ]
  },
  {
   "cell_type": "code",
   "execution_count": null,
   "metadata": {},
   "outputs": [],
   "source": [
    "x_broyden,H_broyden = Broyden(x_initial,iterations,gradient_f)\n",
    "print(x_broyden)"
   ]
  },
  {
   "cell_type": "markdown",
   "metadata": {},
   "source": [
    "# DFP Method"
   ]
  },
  {
   "cell_type": "code",
   "execution_count": null,
   "metadata": {},
   "outputs": [],
   "source": [
    "def DFP(x,iterations,gradient_f):\n",
    "    \"\"\"\n",
    "    Parameters\n",
    "    ----------\n",
    "    \n",
    "    x : 2d float array\n",
    "        Initial point\n",
    "       \n",
    "    iterations : Integer\n",
    "        The total number of iterations\n",
    "        \n",
    "    gradient_f : funciton\n",
    "        The function to calculate first order derivative of the function at the specific point\n",
    "        \n",
    "        \n",
    "    Returns\n",
    "    ------\n",
    "    \n",
    "    x : 2d float array\n",
    "        The stational point\n",
    "    \n",
    "    H : 2d float array\n",
    "        Matrix similar to hessian matrix\n",
    "        \n",
    "    Notes : Using exact line search method\n",
    "    \n",
    "    \"\"\"\n",
    "    k = 0\n",
    "    H = np.eye(x.shape[0],x.shape[0])\n",
    "    while k<iterations:\n",
    "        d = -np.dot(H,gradient_f(x))\n",
    "        print('d is {}'.format(d))\n",
    "\n",
    "        # Find the minimum alpha\n",
    "        alpha = scipy.optimize.root(lambda a: np.dot(gradient_f(x+a*d),d),1).x\n",
    "        print('Alpha is {}'.format(alpha))\n",
    "        # Update x and H\n",
    "        x_previous = x.copy()\n",
    "        x += alpha*d\n",
    "        print('X is {}'.format(x))\n",
    "\n",
    "        delta = x-x_previous\n",
    "        delta = delta.reshape(-1,1) #Convert it into column vector\n",
    "        gamma = gradient_f(x)-gradient_f(x_previous)\n",
    "        gamma = gamma.reshape(-1,1)\n",
    "#         print('Delta is {}'.format(delta))\n",
    "#         print('Gamma is {}'.format(gamma))\n",
    "        \n",
    "\n",
    "        H += np.dot(delta,delta.T)/np.dot(delta.T,gamma)-np.linalg.multi_dot([H,gamma,gamma.T,H])/np.dot(np.dot(H,gamma).T,gamma)\n",
    "#         print('H is \\n{}'.format(H))\n",
    "#         print('\\n')\n",
    "\n",
    "        k += 1\n",
    "    return x,H"
   ]
  },
  {
   "cell_type": "code",
   "execution_count": null,
   "metadata": {},
   "outputs": [],
   "source": [
    "x_dfp,H_dfp = DFP(x_initial,1,gradient_f)\n",
    "print(H_dfp)"
   ]
  },
  {
   "cell_type": "markdown",
   "metadata": {},
   "source": [
    "# BFGS"
   ]
  },
  {
   "cell_type": "code",
   "execution_count": 4,
   "metadata": {},
   "outputs": [],
   "source": [
    "def BFGS(x,iterations,gradient_f):\n",
    "    \"\"\"\n",
    "    Parameters\n",
    "    ----------\n",
    "    \n",
    "    x : 2d float array\n",
    "        Initial point\n",
    "       \n",
    "    iterations : Integer\n",
    "        The total number of iterations\n",
    "        \n",
    "    gradient_f : funciton\n",
    "        The function to calculate first order derivative of the function at the specific point\n",
    "        \n",
    "        \n",
    "    Returns\n",
    "    ------\n",
    "    \n",
    "    x : 2d float array\n",
    "        The stational point\n",
    "    \n",
    "    H : 2d float array\n",
    "        Matrix similar to hessian matrix\n",
    "        \n",
    "    Notes : Using exact line search method\n",
    "    \n",
    "    \"\"\"\n",
    "    k = 0\n",
    "    H = np.eye(x.shape[0],x.shape[0])\n",
    "    while k<iterations:\n",
    "        d = -np.dot(H,gradient_f(x))\n",
    "        print('d is {}'.format(d))\n",
    "\n",
    "        # Find the minimum alpha\n",
    "        alpha = scipy.optimize.root(lambda a: np.dot(gradient_f(x+a*d),d),1).x\n",
    "        print('Alpha is {}'.format(alpha))\n",
    "        # Update x and H\n",
    "        x_previous = x.copy()\n",
    "        x += alpha*d\n",
    "        print('X is {}'.format(x))\n",
    "\n",
    "        delta = x-x_previous\n",
    "        delta = delta.reshape(-1,1) #Convert it into column vector\n",
    "        gamma = gradient_f(x)-gradient_f(x_previous)\n",
    "        gamma = gamma.reshape(-1,1)\n",
    "        print('Delta is {}'.format(delta))\n",
    "        print('Gamma is {}'.format(gamma))\n",
    "        \n",
    "        middle = (1+np.linalg.multi_dot([gamma.T,H,gamma])/np.dot(delta.T,gamma))*np.dot(delta,delta.T)/np.dot(delta.T,gamma)\n",
    "        right = (np.linalg.multi_dot([delta,gamma.T,H])+np.linalg.multi_dot([H,gamma,delta.T]))/np.dot(delta.T,gamma)\n",
    "        H += middle-right\n",
    "#         print('H is \\n{}'.format(H))\n",
    "#         print('\\n')\n",
    "\n",
    "        k += 1\n",
    "    return x,H"
   ]
  },
  {
   "cell_type": "code",
   "execution_count": 5,
   "metadata": {},
   "outputs": [
    {
     "name": "stdout",
     "output_type": "stream",
     "text": [
      "d is [-2. -2.]\n",
      "Alpha is [0.09090909]\n",
      "X is [-0.08181818  0.81818182]\n",
      "Delta is [[-0.18181818]\n",
      " [-0.18181818]]\n",
      "Gamma is [[-3.63636364]\n",
      " [-0.36363636]]\n"
     ]
    }
   ],
   "source": [
    "x_bfgs,H_bfgs = BFGS(x_initial,1,gradient_f)\n",
    "print(x_bfgs)\n",
    "print(H_bfgs)"
   ]
  }
 ],
 "metadata": {
  "kernelspec": {
   "display_name": "Python 3",
   "language": "python",
   "name": "python3"
  },
  "language_info": {
   "codemirror_mode": {
    "name": "ipython",
    "version": 3
   },
   "file_extension": ".py",
   "mimetype": "text/x-python",
   "name": "python",
   "nbconvert_exporter": "python",
   "pygments_lexer": "ipython3",
   "version": "3.7.3"
  }
 },
 "nbformat": 4,
 "nbformat_minor": 2
}
