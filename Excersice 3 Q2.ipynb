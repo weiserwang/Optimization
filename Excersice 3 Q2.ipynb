{
 "cells": [
  {
   "cell_type": "code",
   "execution_count": 1,
   "metadata": {},
   "outputs": [
    {
     "name": "stdout",
     "output_type": "stream",
     "text": [
      "Alpha is [0.09653129]\n",
      "X after iteration: [1.         0.16590558]\n",
      "Gradient value:[1.83409442e+00 4.44956572e-16]\n",
      "\n",
      "\n",
      "Alpha is [0.5]\n",
      "X after iteration: [0.08295279 0.16590558]\n",
      "Gradient value:[-2.22044605e-16  9.17047208e-01]\n",
      "\n",
      "\n",
      "Alpha is [0.16583722]\n",
      "X after iteration: [0.08295279 0.01382502]\n",
      "Gradient value:[ 1.52080559e-01 -5.06949642e-16]\n",
      "\n",
      "\n",
      "Alpha is [0.5]\n",
      "X after iteration: [0.00691251 0.01382502]\n",
      "Gradient value:[2.46330734e-16 7.60402796e-02]\n",
      "\n",
      "\n",
      "Alpha is [0.16666088]\n",
      "X after iteration: [0.00691251 0.00115209]\n",
      "Gradient value:[ 1.26729398e-02 -4.49062040e-17]\n",
      "\n",
      "\n"
     ]
    },
    {
     "data": {
      "text/plain": [
       "<Figure size 640x480 with 1 Axes>"
      ]
     },
     "metadata": {},
     "output_type": "display_data"
    }
   ],
   "source": [
    "import numpy as np\n",
    "import matplotlib.pyplot as plt\n",
    "import scipy.optimize\n",
    "\n",
    "\n",
    "def GD(x, iterations, f, gradient_func):\n",
    "    k = 0\n",
    "    num_of_iterations = iterations\n",
    "    f_values = [f(x)]\n",
    "\n",
    "    while k < num_of_iterations:\n",
    "        d = -1*gradient_func(x)\n",
    "        # Exact line search\n",
    "        alpha = scipy.optimize.root(lambda a: np.dot(gradient_func(x + a * d), d), 1).x\n",
    "        print('Alpha is {}'.format(alpha))\n",
    "        # Update x\n",
    "        x += alpha * d\n",
    "        print('X after iteration: {}'.format(x))\n",
    "        print('Gradient value:{}'.format(gradient_func(x)))\n",
    "        print('\\n')\n",
    "        f_values.append(f(x))\n",
    "        k += 1\n",
    "\n",
    "    return x, f_values\n",
    "\n",
    "\n",
    "def f(x):\n",
    "    a = x[0]\n",
    "    b = x[1]\n",
    "    return a ** 2 - a * b + 3 * b ** 2 + 1 / 4 * b ** 4\n",
    "\n",
    "\n",
    "def gradient_func(x):\n",
    "    a = x[0]\n",
    "    b = x[1]\n",
    "    return np.array([2 * a - b, -a + 6 * b + b ** 3], dtype=float)\n",
    "\n",
    "\n",
    "def plot_GD(iterations, f_values):\n",
    "    plt.plot(np.arange(iterations + 1), f_values, marker='x')\n",
    "    plt.xlabel('Number of Iterations')\n",
    "    plt.ylabel('Function value')\n",
    "    plt.title('GD with Exact Line Search Method')\n",
    "    return plt.show()\n",
    "\n",
    "if __name__ == '__main__':\n",
    "    x_initial = np.array([1,2],dtype=float)\n",
    "    iterations = 5\n",
    "    x_gd, f_values = GD(x_initial, iterations, f, gradient_func)\n",
    "    plot_GD(iterations, f_values)\n",
    "\n"
   ]
  },
  {
   "cell_type": "code",
   "execution_count": null,
   "metadata": {},
   "outputs": [],
   "source": []
  }
 ],
 "metadata": {
  "kernelspec": {
   "display_name": "Python 3",
   "language": "python",
   "name": "python3"
  },
  "language_info": {
   "codemirror_mode": {
    "name": "ipython",
    "version": 3
   },
   "file_extension": ".py",
   "mimetype": "text/x-python",
   "name": "python",
   "nbconvert_exporter": "python",
   "pygments_lexer": "ipython3",
   "version": "3.7.3"
  }
 },
 "nbformat": 4,
 "nbformat_minor": 2
}
